{
 "cells": [
  {
   "cell_type": "code",
   "execution_count": 3,
   "metadata": {},
   "outputs": [],
   "source": [
    "%matplotlib inline\n",
    "\n",
    "import moabb\n",
    "from moabb.datasets import BNCI2014001, MunichMI, Zhou2016\n",
    "from moabb.paradigms import LeftRightImagery\n",
    "from moabb.evaluations import CrossSessionEvaluation\n",
    "\n",
    "from sklearn.discriminant_analysis import LinearDiscriminantAnalysis as LDA\n",
    "from sklearn.pipeline import make_pipeline\n",
    "\n",
    "from mne.decoding import CSP\n",
    "\n",
    "import matplotlib.pyplot as plt\n",
    "import seaborn as sns\n",
    "\n",
    "moabb.set_log_level('info')\n",
    "import warnings\n",
    "warnings.filterwarnings(\"ignore\")"
   ]
  },
  {
   "cell_type": "code",
   "execution_count": 5,
   "metadata": {},
   "outputs": [
    {
     "name": "stderr",
     "output_type": "stream",
     "text": [
      "2019-08-22 13:42:34 desktop-270 root[18471] WARNING <moabb.datasets.mpi_mi.MunichMI object at 0x119c98630> not compatible with evaluation. Removing this dataset from the list.\n",
      "2019-08-22 13:42:34 desktop-270 root[18471] INFO Processing dataset: 001-2014\n",
      "2019-08-22 13:42:42 desktop-270 root[18471] INFO csp+lda | 001-2014 | 1 | session_E: Score 0.955\n",
      "2019-08-22 13:42:42 desktop-270 root[18471] INFO csp+lda | 001-2014 | 1 | session_T: Score 0.932\n",
      "2019-08-22 13:42:49 desktop-270 root[18471] INFO csp+lda | 001-2014 | 2 | session_E: Score 0.646\n",
      "2019-08-22 13:42:49 desktop-270 root[18471] INFO csp+lda | 001-2014 | 2 | session_T: Score 0.527\n",
      "2019-08-22 13:42:56 desktop-270 root[18471] INFO csp+lda | 001-2014 | 3 | session_E: Score 0.996\n",
      "2019-08-22 13:42:56 desktop-270 root[18471] INFO csp+lda | 001-2014 | 3 | session_T: Score 0.994\n",
      "2019-08-22 13:43:03 desktop-270 root[18471] INFO csp+lda | 001-2014 | 4 | session_E: Score 0.829\n",
      "2019-08-22 13:43:03 desktop-270 root[18471] INFO csp+lda | 001-2014 | 4 | session_T: Score 0.829\n",
      "2019-08-22 13:43:10 desktop-270 root[18471] INFO csp+lda | 001-2014 | 5 | session_E: Score 0.572\n",
      "2019-08-22 13:43:10 desktop-270 root[18471] INFO csp+lda | 001-2014 | 5 | session_T: Score 0.621\n",
      "2019-08-22 13:43:17 desktop-270 root[18471] INFO csp+lda | 001-2014 | 6 | session_E: Score 0.777\n",
      "2019-08-22 13:43:17 desktop-270 root[18471] INFO csp+lda | 001-2014 | 6 | session_T: Score 0.818\n",
      "2019-08-22 13:43:24 desktop-270 root[18471] INFO csp+lda | 001-2014 | 7 | session_E: Score 0.901\n",
      "2019-08-22 13:43:24 desktop-270 root[18471] INFO csp+lda | 001-2014 | 7 | session_T: Score 0.887\n",
      "2019-08-22 13:43:31 desktop-270 root[18471] INFO csp+lda | 001-2014 | 8 | session_E: Score 0.987\n",
      "2019-08-22 13:43:32 desktop-270 root[18471] INFO csp+lda | 001-2014 | 8 | session_T: Score 0.995\n",
      "2019-08-22 13:43:39 desktop-270 root[18471] INFO csp+lda | 001-2014 | 9 | session_E: Score 0.955\n",
      "2019-08-22 13:43:39 desktop-270 root[18471] INFO csp+lda | 001-2014 | 9 | session_T: Score 0.840\n",
      "2019-08-22 13:43:39 desktop-270 root[18471] INFO Processing dataset: Zhou 2016\n"
     ]
    },
    {
     "name": "stdout",
     "output_type": "stream",
     "text": [
      "Setting non-standard config type: \"MNE_DATASETS_ZHOU2016_PATH\"\n",
      "  Could not parse meas date from the header. Setting to None.\n",
      "Could not define the number of bytes automatically. Defaulting to 2.\n",
      "The following EEG sensors did not have a position specified in the selected montage: ['VEOU', 'VEOL']. Their position has been left untouched.\n",
      "  Could not parse meas date from the header. Setting to None.\n",
      "Could not define the number of bytes automatically. Defaulting to 2.\n",
      "The following EEG sensors did not have a position specified in the selected montage: ['VEOU', 'VEOL']. Their position has been left untouched.\n",
      "  Could not parse meas date from the header. Setting to None.\n",
      "Could not define the number of bytes automatically. Defaulting to 2.\n",
      "The following EEG sensors did not have a position specified in the selected montage: ['VEOU', 'VEOL']. Their position has been left untouched.\n",
      "  Could not parse meas date from the header. Setting to None.\n",
      "Could not define the number of bytes automatically. Defaulting to 2.\n",
      "The following EEG sensors did not have a position specified in the selected montage: ['VEOU', 'VEOL']. Their position has been left untouched.\n",
      "  Could not parse meas date from the header. Setting to None.\n",
      "Could not define the number of bytes automatically. Defaulting to 2.\n",
      "The following EEG sensors did not have a position specified in the selected montage: ['VEOU', 'VEOL']. Their position has been left untouched.\n",
      "  Could not parse meas date from the header. Setting to None.\n",
      "Could not define the number of bytes automatically. Defaulting to 2.\n",
      "The following EEG sensors did not have a position specified in the selected montage: ['VEOU', 'VEOL']. Their position has been left untouched.\n"
     ]
    },
    {
     "name": "stderr",
     "output_type": "stream",
     "text": [
      "2019-08-22 13:43:46 desktop-270 root[18471] INFO csp+lda | Zhou 2016 | 1 | session_0: Score 0.795\n",
      "2019-08-22 13:43:46 desktop-270 root[18471] INFO csp+lda | Zhou 2016 | 1 | session_1: Score 0.931\n",
      "2019-08-22 13:43:47 desktop-270 root[18471] INFO csp+lda | Zhou 2016 | 1 | session_2: Score 0.936\n"
     ]
    },
    {
     "name": "stdout",
     "output_type": "stream",
     "text": [
      "Setting non-standard config type: \"MNE_DATASETS_ZHOU2016_PATH\"\n",
      "  Could not parse meas date from the header. Setting to None.\n",
      "Could not define the number of bytes automatically. Defaulting to 2.\n",
      "The following EEG sensors did not have a position specified in the selected montage: ['VEOU', 'VEOL']. Their position has been left untouched.\n",
      "  Could not parse meas date from the header. Setting to None.\n",
      "Could not define the number of bytes automatically. Defaulting to 2.\n",
      "The following EEG sensors did not have a position specified in the selected montage: ['VEOU', 'VEOL']. Their position has been left untouched.\n",
      "  Could not parse meas date from the header. Setting to None.\n",
      "Could not define the number of bytes automatically. Defaulting to 2.\n",
      "The following EEG sensors did not have a position specified in the selected montage: ['VEOU', 'VEOL']. Their position has been left untouched.\n",
      "  Could not parse meas date from the header. Setting to None.\n",
      "Could not define the number of bytes automatically. Defaulting to 2.\n",
      "The following EEG sensors did not have a position specified in the selected montage: ['VEOU', 'VEOL']. Their position has been left untouched.\n",
      "  Could not parse meas date from the header. Setting to None.\n",
      "Could not define the number of bytes automatically. Defaulting to 2.\n",
      "The following EEG sensors did not have a position specified in the selected montage: ['VEOU', 'VEOL']. Their position has been left untouched.\n",
      "  Could not parse meas date from the header. Setting to None.\n",
      "Could not define the number of bytes automatically. Defaulting to 2.\n",
      "The following EEG sensors did not have a position specified in the selected montage: ['VEOU', 'VEOL']. Their position has been left untouched.\n"
     ]
    },
    {
     "name": "stderr",
     "output_type": "stream",
     "text": [
      "2019-08-22 13:43:51 desktop-270 root[18471] INFO csp+lda | Zhou 2016 | 2 | session_0: Score 0.905\n",
      "2019-08-22 13:43:51 desktop-270 root[18471] INFO csp+lda | Zhou 2016 | 2 | session_1: Score 0.804\n",
      "2019-08-22 13:43:52 desktop-270 root[18471] INFO csp+lda | Zhou 2016 | 2 | session_2: Score 0.934\n"
     ]
    },
    {
     "name": "stdout",
     "output_type": "stream",
     "text": [
      "Setting non-standard config type: \"MNE_DATASETS_ZHOU2016_PATH\"\n",
      "  Could not parse meas date from the header. Setting to None.\n",
      "Could not define the number of bytes automatically. Defaulting to 2.\n",
      "The following EEG sensors did not have a position specified in the selected montage: ['VEOU', 'VEOL']. Their position has been left untouched.\n",
      "  Could not parse meas date from the header. Setting to None.\n",
      "Could not define the number of bytes automatically. Defaulting to 2.\n",
      "The following EEG sensors did not have a position specified in the selected montage: ['VEOU', 'VEOL']. Their position has been left untouched.\n",
      "  Could not parse meas date from the header. Setting to None.\n",
      "Could not define the number of bytes automatically. Defaulting to 2.\n",
      "The following EEG sensors did not have a position specified in the selected montage: ['VEOU', 'VEOL']. Their position has been left untouched.\n",
      "  Could not parse meas date from the header. Setting to None.\n",
      "Could not define the number of bytes automatically. Defaulting to 2.\n",
      "The following EEG sensors did not have a position specified in the selected montage: ['VEOU', 'VEOL']. Their position has been left untouched.\n",
      "  Could not parse meas date from the header. Setting to None.\n",
      "Could not define the number of bytes automatically. Defaulting to 2.\n",
      "The following EEG sensors did not have a position specified in the selected montage: ['VEOU', 'VEOL']. Their position has been left untouched.\n",
      "  Could not parse meas date from the header. Setting to None.\n",
      "Could not define the number of bytes automatically. Defaulting to 2.\n",
      "The following EEG sensors did not have a position specified in the selected montage: ['VEOU', 'VEOL']. Their position has been left untouched.\n"
     ]
    },
    {
     "name": "stderr",
     "output_type": "stream",
     "text": [
      "2019-08-22 13:43:56 desktop-270 root[18471] INFO csp+lda | Zhou 2016 | 3 | session_0: Score 0.989\n",
      "2019-08-22 13:43:56 desktop-270 root[18471] INFO csp+lda | Zhou 2016 | 3 | session_1: Score 0.971\n",
      "2019-08-22 13:43:57 desktop-270 root[18471] INFO csp+lda | Zhou 2016 | 3 | session_2: Score 0.978\n"
     ]
    },
    {
     "name": "stdout",
     "output_type": "stream",
     "text": [
      "Setting non-standard config type: \"MNE_DATASETS_ZHOU2016_PATH\"\n",
      "  Could not parse meas date from the header. Setting to None.\n",
      "Could not define the number of bytes automatically. Defaulting to 2.\n",
      "The following EEG sensors did not have a position specified in the selected montage: ['VEOU', 'VEOL']. Their position has been left untouched.\n",
      "  Could not parse meas date from the header. Setting to None.\n",
      "Could not define the number of bytes automatically. Defaulting to 2.\n",
      "The following EEG sensors did not have a position specified in the selected montage: ['VEOU', 'VEOL']. Their position has been left untouched.\n",
      "  Could not parse meas date from the header. Setting to None.\n",
      "Could not define the number of bytes automatically. Defaulting to 2.\n",
      "The following EEG sensors did not have a position specified in the selected montage: ['VEOU', 'VEOL']. Their position has been left untouched.\n",
      "  Could not parse meas date from the header. Setting to None.\n",
      "Could not define the number of bytes automatically. Defaulting to 2.\n",
      "The following EEG sensors did not have a position specified in the selected montage: ['VEOU', 'VEOL']. Their position has been left untouched.\n",
      "  Could not parse meas date from the header. Setting to None.\n",
      "Could not define the number of bytes automatically. Defaulting to 2.\n",
      "The following EEG sensors did not have a position specified in the selected montage: ['VEOU', 'VEOL']. Their position has been left untouched.\n",
      "  Could not parse meas date from the header. Setting to None.\n",
      "Could not define the number of bytes automatically. Defaulting to 2.\n",
      "The following EEG sensors did not have a position specified in the selected montage: ['VEOU', 'VEOL']. Their position has been left untouched.\n"
     ]
    },
    {
     "name": "stderr",
     "output_type": "stream",
     "text": [
      "2019-08-22 13:44:01 desktop-270 root[18471] INFO csp+lda | Zhou 2016 | 4 | session_0: Score 0.969\n",
      "2019-08-22 13:44:01 desktop-270 root[18471] INFO csp+lda | Zhou 2016 | 4 | session_1: Score 0.978\n",
      "2019-08-22 13:44:01 desktop-270 root[18471] INFO csp+lda | Zhou 2016 | 4 | session_2: Score 0.971\n"
     ]
    }
   ],
   "source": [
    "datasets = [BNCI2014001(), MunichMI(), Zhou2016()]\n",
    "\n",
    "paradigm = LeftRightImagery()\n",
    "\n",
    "evaluation = CrossSessionEvaluation(paradigm=paradigm, datasets=datasets, overwrite=True)\n",
    "\n",
    "pipelines = make_pipeline(CSP(n_components=8), LDA())\n",
    "\n",
    "results = evaluation.process({'csp+lda':pipelines}) "
   ]
  },
  {
   "cell_type": "code",
   "execution_count": 7,
   "metadata": {},
   "outputs": [
    {
     "data": {
      "image/png": "[encoded data removed]",
      "text/plain": [
       "<Figure size 576x504 with 1 Axes>"
      ]
     },
     "metadata": {},
     "output_type": "display_data"
    }
   ],
   "source": [
    "fig, ax = plt.subplots(figsize=(8,7))\n",
    "results[\"subj\"] = results[\"subject\"].apply(str)\n",
    "sns.barplot(x=\"score\", y=\"subj\", data=results, orient='h', palette='viridis', ax=ax)\n",
    "#sns.catplot(kind='bar', x=\"score\", y=\"subj\", hue='session', data=results, orient='h', palette='viridis')\n",
    "fig.show()"
   ]
  },
  {
   "cell_type": "code",
   "execution_count": null,
   "metadata": {
    "collapsed": true
   },
   "outputs": [],
   "source": []
  }
 ],
 "metadata": {
  "kernelspec": {
   "display_name": "Python 3",
   "language": "python",
   "name": "python3"
  },
  "language_info": {
   "codemirror_mode": {
    "name": "ipython",
    "version": 3
   },
   "file_extension": ".py",
   "mimetype": "text/x-python",
   "name": "python",
   "nbconvert_exporter": "python",
   "pygments_lexer": "ipython3",
   "version": "3.6.1"
  }
 },
 "nbformat": 4,
 "nbformat_minor": 2
}
