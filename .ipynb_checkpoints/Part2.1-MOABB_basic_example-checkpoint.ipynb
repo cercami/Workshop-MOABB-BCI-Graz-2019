{
 "cells": [
  {
   "cell_type": "markdown",
   "metadata": {},
   "source": [
    "# Making things simpler with MOABB (Part 1)\n",
    "\n",
    "In this notebook, we use the MOABB package for performing the same sequence of steps done on the previous notebook but with much less lines of code. For doing so, we first import the required packages. This includes the packages for classification (`pyriemann` and `scikit-learn`), plotting (`matplotlib`) and MOABB itself."
   ]
  },
  {
   "cell_type": "code",
   "execution_count": 1,
   "metadata": {},
   "outputs": [],
   "source": [
    "%matplotlib inline\n",
    "\n",
    "import moabb\n",
    "from moabb.datasets import BNCI2014001\n",
    "from moabb.paradigms import LeftRightImagery\n",
    "from moabb.evaluations import WithinSessionEvaluation\n",
    "\n",
    "from sklearn.discriminant_analysis import LinearDiscriminantAnalysis as LDA\n",
    "from sklearn.pipeline import make_pipeline\n",
    "\n",
    "from mne.decoding import CSP\n",
    "\n",
    "import matplotlib.pyplot as plt\n",
    "import seaborn as sns\n",
    "\n",
    "moabb.set_log_level('info')\n",
    "import warnings\n",
    "warnings.filterwarnings(\"ignore\")"
   ]
  },
  {
   "cell_type": "markdown",
   "metadata": {},
   "source": [
    "The first thing to do is instantiating the **dataset** that we want to analyse. MOABB has a list of many different datasets, each one containing all the necessary information for describing them, such as number of subjects, size of trials, names of classes, etc., etc. \n",
    "\n",
    "The *dataset* class has methods for:\n",
    "- downloading its files from some online source (e.g. Zenodo)\n",
    "- importing the data from the files in whatever extension they might be (like .mat, .gdf, etc.) and instantiate a Raw object from the MNE package"
   ]
  },
  {
   "cell_type": "code",
   "execution_count": 2,
   "metadata": {},
   "outputs": [],
   "source": [
    "dataset = BNCI2014001()"
   ]
  },
  {
   "cell_type": "markdown",
   "metadata": {},
   "source": [
    "As an example, we may access the EEG recording from a given session and a given run as follows."
   ]
  },
  {
   "cell_type": "code",
   "execution_count": null,
   "metadata": {},
   "outputs": [],
   "source": [
    "sessions = dataset._get_single_subject_data(subject=1)\n",
    "session_name = 'session_T'\n",
    "run_name = 'run_1'\n",
    "raw = sessions[session_name][run_name]"
   ]
  },
  {
   "cell_type": "markdown",
   "metadata": {},
   "source": [
    "This returns a MNE Raw object that can be manipulated exactly as done in Part 1.1. For some people, this might be enough. However, "
   ]
  },
  {
   "cell_type": "markdown",
   "metadata": {},
   "source": [
    "Once we instantiate a dataset, we have to choose a **paradigm**. This object is responsable for filtering the data, epoching it, and extracting the labels for each epoch. Note that each dataset comes with the names of the paradigms to which it might be associated -- It wouldn't make sense to process a P300 dataset with a MI paradigm object."
   ]
  },
  {
   "cell_type": "code",
   "execution_count": 4,
   "metadata": {},
   "outputs": [],
   "source": [
    "paradigm = LeftRightImagery()"
   ]
  },
  {
   "cell_type": "markdown",
   "metadata": {},
   "source": [
    "Using simply the two preceding lines and the next one, we can already extract all the epochs and labels from the dataset. Note how simple this is as compared to the Notebook 1.1, where the trials were extracted with several steps."
   ]
  },
  {
   "cell_type": "code",
   "execution_count": 11,
   "metadata": {},
   "outputs": [],
   "source": [
    "X, labels, meta = paradigm.get_data(dataset=dataset, subjects=[1])"
   ]
  },
  {
   "cell_type": "markdown",
   "metadata": {},
   "source": [
    "Our goal is to evaluate the performance of a given classification pipeline (or several of them) when it is applied to the epochs from the dataset chosen previously. We will consider a very simple classification pipeline in which the epochs are dimension reduced via a CSP step and then the classification is done via linear discriminant analysis."
   ]
  },
  {
   "cell_type": "code",
   "execution_count": null,
   "metadata": {},
   "outputs": [],
   "source": [
    "pipeline = make_pipeline(CSP(n_components=8), LDA())"
   ]
  },
  {
   "cell_type": "markdown",
   "metadata": {},
   "source": [
    "To evaluate the score of this pipeline, we use the *evaluation* class. When instantiating it, we say which paradigm we want to consider, a list with the datasets to analyse, and whether the scores should be recalculated each time we run the evaluation or if MOABB should create a cache file. Note that there different ways of evaluating a classifier; in this example, we choose `WithinSessionEvaluation`, which consists of doing a cross-validation procedure where the training and testing partitions are from the same recording session of the dataset. We could have used `BetweenSessionEvaluation`, which takes one session as training partition and another one as testing partition."
   ]
  },
  {
   "cell_type": "code",
   "execution_count": null,
   "metadata": {},
   "outputs": [],
   "source": [
    "evaluation = WithinSessionEvaluation(paradigm=paradigm, datasets=[dataset], overwrite=True)"
   ]
  },
  {
   "cell_type": "markdown",
   "metadata": {},
   "source": [
    "We obtain the results in the form of a `pandas` dataframe"
   ]
  },
  {
   "cell_type": "code",
   "execution_count": 2,
   "metadata": {},
   "outputs": [
    {
     "name": "stderr",
     "output_type": "stream",
     "text": [
      "2019-08-22 13:55:23 desktop-270 root[18539] INFO Processing dataset: 001-2014\n",
      "2019-08-22 13:55:31 desktop-270 root[18539] INFO csp+lda | 001-2014 | 1 | session_E: Score 0.946\n",
      "2019-08-22 13:55:32 desktop-270 root[18539] INFO csp+lda | 001-2014 | 1 | session_T: Score 0.929\n",
      "2019-08-22 13:55:39 desktop-270 root[18539] INFO csp+lda | 001-2014 | 2 | session_E: Score 0.584\n",
      "2019-08-22 13:55:39 desktop-270 root[18539] INFO csp+lda | 001-2014 | 2 | session_T: Score 0.584\n",
      "2019-08-22 13:55:46 desktop-270 root[18539] INFO csp+lda | 001-2014 | 3 | session_E: Score 0.990\n",
      "2019-08-22 13:55:47 desktop-270 root[18539] INFO csp+lda | 001-2014 | 3 | session_T: Score 0.996\n",
      "2019-08-22 13:55:54 desktop-270 root[18539] INFO csp+lda | 001-2014 | 4 | session_E: Score 0.868\n",
      "2019-08-22 13:55:54 desktop-270 root[18539] INFO csp+lda | 001-2014 | 4 | session_T: Score 0.878\n",
      "2019-08-22 13:56:01 desktop-270 root[18539] INFO csp+lda | 001-2014 | 5 | session_E: Score 0.648\n",
      "2019-08-22 13:56:02 desktop-270 root[18539] INFO csp+lda | 001-2014 | 5 | session_T: Score 0.543\n",
      "2019-08-22 13:56:09 desktop-270 root[18539] INFO csp+lda | 001-2014 | 6 | session_E: Score 0.777\n",
      "2019-08-22 13:56:10 desktop-270 root[18539] INFO csp+lda | 001-2014 | 6 | session_T: Score 0.803\n",
      "2019-08-22 13:56:17 desktop-270 root[18539] INFO csp+lda | 001-2014 | 7 | session_E: Score 0.965\n",
      "2019-08-22 13:56:17 desktop-270 root[18539] INFO csp+lda | 001-2014 | 7 | session_T: Score 0.851\n",
      "2019-08-22 13:56:24 desktop-270 root[18539] INFO csp+lda | 001-2014 | 8 | session_E: Score 0.997\n",
      "2019-08-22 13:56:25 desktop-270 root[18539] INFO csp+lda | 001-2014 | 8 | session_T: Score 1.000\n",
      "2019-08-22 13:56:32 desktop-270 root[18539] INFO csp+lda | 001-2014 | 9 | session_E: Score 0.966\n",
      "2019-08-22 13:56:33 desktop-270 root[18539] INFO csp+lda | 001-2014 | 9 | session_T: Score 0.839\n"
     ]
    }
   ],
   "source": [
    "results = evaluation.process({'csp+lda':pipeline}) "
   ]
  },
  {
   "cell_type": "markdown",
   "metadata": {},
   "source": [
    "We create a figure with the `seaborn` package comparing the classification score for each subject on each session. Note that the *subject* field from the results object is given in terms of integers, but seaborn accepts only strings for its labeling. This is why we create the field *subj*"
   ]
  },
  {
   "cell_type": "code",
   "execution_count": 6,
   "metadata": {},
   "outputs": [
    {
     "data": {
      "image/png": "[encoded data removed]",
      "text/plain": [
       "<Figure size 576x504 with 1 Axes>"
      ]
     },
     "metadata": {},
     "output_type": "display_data"
    }
   ],
   "source": [
    "fig, ax = plt.subplots(figsize=(8,7))\n",
    "results[\"subj\"] = results[\"subject\"].apply(str)\n",
    "sns.barplot(x=\"score\", y=\"subj\", hue='session', data=results, orient='h', palette='viridis', ax=ax)\n",
    "#sns.catplot(kind='bar', x=\"score\", y=\"subj\", hue='session', data=results, orient='h', palette='viridis')\n",
    "fig.show()"
   ]
  }
 ],
 "metadata": {
  "kernelspec": {
   "display_name": "Python 3",
   "language": "python",
   "name": "python3"
  },
  "language_info": {
   "codemirror_mode": {
    "name": "ipython",
    "version": 3
   },
   "file_extension": ".py",
   "mimetype": "text/x-python",
   "name": "python",
   "nbconvert_exporter": "python",
   "pygments_lexer": "ipython3",
   "version": "3.6.8"
  }
 },
 "nbformat": 4,
 "nbformat_minor": 2
}
