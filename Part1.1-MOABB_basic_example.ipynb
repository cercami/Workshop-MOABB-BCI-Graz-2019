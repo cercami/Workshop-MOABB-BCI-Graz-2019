{
 "cells": [
  {
   "cell_type": "code",
   "execution_count": 136,
   "metadata": {
    "collapsed": true
   },
   "outputs": [],
   "source": [
    "%matplotlib inline\n",
    "\n",
    "from scipy.io import loadmat\n",
    "import numpy as np\n",
    "import mne\n",
    "from mne import create_info\n",
    "from mne.io import RawArray\n",
    "from mne.channels import read_montage\n",
    "import glob\n",
    "\n",
    "from sklearn.preprocessing import LabelEncoder\n",
    "from sklearn.discriminant_analysis import LinearDiscriminantAnalysis as LDA\n",
    "from sklearn.pipeline import make_pipeline\n",
    "from sklearn.model_selection import cross_val_score, StratifiedKFold\n",
    "\n",
    "import matplotlib.pyplot as plt\n",
    "import seaborn as sns\n",
    "from mne.decoding import CSP\n",
    "import pandas as pd"
   ]
  },
  {
   "cell_type": "code",
   "execution_count": 110,
   "metadata": {},
   "outputs": [],
   "source": [
    "filename = \"./dataset/001-2014/A01E.mat\""
   ]
  },
  {
   "cell_type": "code",
   "execution_count": 111,
   "metadata": {},
   "outputs": [],
   "source": [
    "runs = []\n",
    "event_id = {}\n",
    "data = loadmat(filename, struct_as_record=False, squeeze_me=True)\n",
    "run_array = data['data']\n",
    "for run in run_array:\n",
    "\n",
    "    ch_names = [\n",
    "        'Fz', 'FC3', 'FC1', 'FCz', 'FC2', 'FC4', 'C5', 'C3', 'C1', 'Cz', 'C2',\n",
    "        'C4', 'C6', 'CP3', 'CP1', 'CPz', 'CP2', 'CP4', 'P1', 'Pz', 'P2', 'POz',\n",
    "        'EOG1', 'EOG2', 'EOG3'\n",
    "    ]\n",
    "    ch_types = ['eeg'] * 22 + ['eog'] * 3    \n",
    "    \n",
    "    evd = {}\n",
    "    n_chan = run.X.shape[1]\n",
    "    montage = read_montage('standard_1005')\n",
    "    eeg_data = 1e-6 * run.X\n",
    "    sfreq = run.fs\n",
    "\n",
    "    if not ch_names:\n",
    "        ch_names = ['EEG%d' % ch for ch in range(1, n_chan + 1)]\n",
    "        montage = None  # no montage\n",
    "\n",
    "    if not ch_types:\n",
    "        ch_types = ['eeg'] * n_chan\n",
    "\n",
    "    trigger = np.zeros((len(eeg_data), 1))\n",
    "    # some runs does not contains trials i.e baseline runs\n",
    "    if len(run.trial) > 0:\n",
    "        trigger[run.trial - 1, 0] = run.y\n",
    "\n",
    "    eeg_data = np.c_[eeg_data, trigger]\n",
    "    ch_names = ch_names + ['stim']\n",
    "    ch_types = ch_types + ['stim']\n",
    "    evd = {ev: (ii + 1) for ii, ev in enumerate(run.classes)}\n",
    "    info = create_info(ch_names=ch_names, ch_types=ch_types, sfreq=sfreq, montage=montage)\n",
    "    rawi = RawArray(data=eeg_data.T, info=info, verbose=False)    \n",
    "    \n",
    "    runs.append(rawi)\n",
    "    event_id.update(evd)"
   ]
  },
  {
   "cell_type": "code",
   "execution_count": 112,
   "metadata": {},
   "outputs": [
    {
     "name": "stderr",
     "output_type": "stream",
     "text": [
      "/nethome/coelhorp/anaconda/envs/riemann-lab/lib/python3.6/site-packages/scipy/signal/_arraytools.py:45: FutureWarning: Using a non-tuple sequence for multidimensional indexing is deprecated; use `arr[tuple(seq)]` instead of `arr[seq]`. In the future this will be interpreted as an array index, `arr[np.array(seq)]`, which will result either in an error or a different result.\n",
      "  b = a[a_slice]\n"
     ]
    },
    {
     "data": {
      "text/plain": [
       "<RawArray  |  None, n_channels x n_times : 26 x 661866 (2647.5 sec), ~131.4 MB, data loaded>"
      ]
     },
     "execution_count": 112,
     "metadata": {},
     "output_type": "execute_result"
    }
   ],
   "source": [
    "raw = mne.concatenate_raws(runs)\n",
    "raw.filter(l_freq=8, h_freq=32, method='iir')"
   ]
  },
  {
   "cell_type": "code",
   "execution_count": 113,
   "metadata": {},
   "outputs": [
    {
     "name": "stdout",
     "output_type": "stream",
     "text": [
      "288 events found\n",
      "Event IDs: [1 2 3 4]\n",
      "144 matching events found\n",
      "No baseline correction applied\n",
      "Not setting metadata\n",
      "0 projection items activated\n",
      "Loading data for 144 events and 1001 original time points ...\n",
      "0 bad epochs dropped\n"
     ]
    }
   ],
   "source": [
    "events = mne.find_events(raw)\n",
    "epochs = mne.Epochs(raw, events, event_id={'left hand':1, 'right hand':2}, tmin=2, tmax=6, baseline=None, picks=mne.pick_types(raw.info, eeg=True, stim=False))\n",
    "X = epochs.get_data()\n",
    "y = epochs.events[:,-1]"
   ]
  },
  {
   "cell_type": "code",
   "execution_count": 114,
   "metadata": {},
   "outputs": [
    {
     "name": "stdout",
     "output_type": "stream",
     "text": [
      "Estimating covariance using EMPIRICAL\n",
      "Done.\n",
      "Estimating covariance using EMPIRICAL\n",
      "Done.\n",
      "Estimating covariance using EMPIRICAL\n",
      "Done.\n",
      "Estimating covariance using EMPIRICAL\n",
      "Done.\n",
      "Estimating covariance using EMPIRICAL\n",
      "Done.\n",
      "Estimating covariance using EMPIRICAL\n",
      "Done.\n",
      "Estimating covariance using EMPIRICAL\n",
      "Done.\n",
      "Estimating covariance using EMPIRICAL\n",
      "Done.\n",
      "Estimating covariance using EMPIRICAL\n",
      "Done.\n",
      "Estimating covariance using EMPIRICAL\n",
      "Done.\n",
      "0.6377324263038548\n"
     ]
    }
   ],
   "source": [
    "pipeline = make_pipeline(CSP(n_components=8), LDA())\n",
    "cv = StratifiedKFold(5, shuffle=True)\n",
    "le = LabelEncoder()\n",
    "y = le.fit_transform(y)\n",
    "acc = cross_val_score(pipeline, X, y, cv=cv, scoring='roc_auc')\n",
    "print(acc.mean())"
   ]
  },
  {
   "cell_type": "code",
   "execution_count": 117,
   "metadata": {},
   "outputs": [],
   "source": [
    "import warnings\n",
    "warnings.filterwarnings(\"ignore\")\n",
    "mne.set_log_level(\"CRITICAL\")\n",
    "\n",
    "def get_session_score(filename, pipeline):\n",
    "    \n",
    "    runs = []\n",
    "    event_id = {}\n",
    "    data = loadmat(filename, struct_as_record=False, squeeze_me=True)\n",
    "    run_array = data['data']\n",
    "    for run in run_array:\n",
    "\n",
    "        ch_names = [\n",
    "            'Fz', 'FC3', 'FC1', 'FCz', 'FC2', 'FC4', 'C5', 'C3', 'C1', 'Cz', 'C2',\n",
    "            'C4', 'C6', 'CP3', 'CP1', 'CPz', 'CP2', 'CP4', 'P1', 'Pz', 'P2', 'POz',\n",
    "            'EOG1', 'EOG2', 'EOG3'\n",
    "        ]\n",
    "        ch_types = ['eeg'] * 22 + ['eog'] * 3    \n",
    "\n",
    "        evd = {}\n",
    "        n_chan = run.X.shape[1]\n",
    "        montage = read_montage('standard_1005')\n",
    "        eeg_data = 1e-6 * run.X\n",
    "        sfreq = run.fs\n",
    "\n",
    "        if not ch_names:\n",
    "            ch_names = ['EEG%d' % ch for ch in range(1, n_chan + 1)]\n",
    "            montage = None  # no montage\n",
    "\n",
    "        if not ch_types:\n",
    "            ch_types = ['eeg'] * n_chan\n",
    "\n",
    "        trigger = np.zeros((len(eeg_data), 1))\n",
    "        # some runs does not contains trials i.e baseline runs\n",
    "        if len(run.trial) > 0:\n",
    "            trigger[run.trial - 1, 0] = run.y\n",
    "\n",
    "        eeg_data = np.c_[eeg_data, trigger]\n",
    "        ch_names = ch_names + ['stim']\n",
    "        ch_types = ch_types + ['stim']\n",
    "        evd = {ev: (ii + 1) for ii, ev in enumerate(run.classes)}\n",
    "        info = create_info(ch_names=ch_names, ch_types=ch_types, sfreq=sfreq, montage=montage)\n",
    "        rawi = RawArray(data=eeg_data.T, info=info, verbose=False)    \n",
    "\n",
    "        runs.append(rawi)\n",
    "        event_id.update(evd)    \n",
    "        \n",
    "    raw = mne.concatenate_raws(runs)\n",
    "    raw.filter(l_freq=8, h_freq=32, method='iir')   \n",
    "    \n",
    "    events = mne.find_events(raw)\n",
    "    epochs = mne.Epochs(raw, events, event_id={'left hand':1, 'right hand':2}, tmin=2, tmax=6, baseline=None, picks=mne.pick_types(raw.info, eeg=True, stim=False))\n",
    "    X = epochs.get_data()\n",
    "    y = epochs.events[:,-1]    \n",
    "    \n",
    "    cv = StratifiedKFold(5, shuffle=True)\n",
    "    le = LabelEncoder()\n",
    "    y = le.fit_transform(y)\n",
    "    acc = cross_val_score(pipeline, X, y, cv=cv, scoring='roc_auc')\n",
    "    \n",
    "    return acc.mean()"
   ]
  },
  {
   "cell_type": "code",
   "execution_count": 118,
   "metadata": {},
   "outputs": [
    {
     "name": "stdout",
     "output_type": "stream",
     "text": [
      "0.6138367346938776\n"
     ]
    }
   ],
   "source": [
    "pipeline = make_pipeline(CSP(n_components=8), LDA())\n",
    "score = get_session_score(filename, pipeline)\n",
    "print(score)"
   ]
  },
  {
   "cell_type": "code",
   "execution_count": 132,
   "metadata": {},
   "outputs": [
    {
     "name": "stdout",
     "output_type": "stream",
     "text": [
      "./dataset/001-2014/A01E.mat\n",
      "./dataset/001-2014/A01T.mat\n",
      "./dataset/001-2014/A02E.mat\n",
      "./dataset/001-2014/A02T.mat\n",
      "./dataset/001-2014/A03E.mat\n",
      "./dataset/001-2014/A03T.mat\n",
      "./dataset/001-2014/A04E.mat\n",
      "./dataset/001-2014/A04T.mat\n",
      "./dataset/001-2014/A05E.mat\n",
      "./dataset/001-2014/A05T.mat\n",
      "./dataset/001-2014/A06E.mat\n",
      "./dataset/001-2014/A06T.mat\n",
      "./dataset/001-2014/A07E.mat\n",
      "./dataset/001-2014/A07T.mat\n",
      "./dataset/001-2014/A08E.mat\n",
      "./dataset/001-2014/A08T.mat\n",
      "./dataset/001-2014/A09E.mat\n",
      "./dataset/001-2014/A09T.mat\n"
     ]
    }
   ],
   "source": [
    "scores = []\n",
    "subjects = []\n",
    "sessions = []\n",
    "for filename in glob.glob('./dataset/001-2014/*'):\n",
    "    print(filename)\n",
    "\n",
    "    pipeline = make_pipeline(CSP(n_components=8), LDA())\n",
    "    score = get_session_score(filename, pipeline)    \n",
    "    scores.append(score)\n",
    "    \n",
    "    session_name = 'session_' + filename.split('.')[1][-1]\n",
    "    sessions.append(session_name)\n",
    "    \n",
    "    subject = int(filename.split('.')[1][-2])    \n",
    "    subjects.append(subject)\n",
    "    \n",
    "results = pd.DataFrame()\n",
    "results['score'] = scores\n",
    "results['subject'] = subjects\n",
    "results['session'] = sessions"
   ]
  },
  {
   "cell_type": "code",
   "execution_count": 139,
   "metadata": {},
   "outputs": [
    {
     "data": {
      "image/png": "[encoded data removed]",
      "text/plain": [
       "<Figure size 576x504 with 1 Axes>"
      ]
     },
     "metadata": {},
     "output_type": "display_data"
    }
   ],
   "source": [
    "fig, ax = plt.subplots(figsize=(8,7))\n",
    "results[\"subj\"] = results[\"subject\"].apply(str)\n",
    "sns.barplot(x=\"score\", y=\"subj\", hue='session', data=results, orient='h', palette='viridis', ax=ax)\n",
    "#sns.catplot(kind='bar', x=\"score\", y=\"subj\", hue='session', data=results, orient='h', palette='viridis')\n",
    "fig.show()"
   ]
  },
  {
   "cell_type": "code",
   "execution_count": null,
   "metadata": {
    "collapsed": true
   },
   "outputs": [],
   "source": []
  }
 ],
 "metadata": {
  "kernelspec": {
   "display_name": "Python 3",
   "language": "python",
   "name": "python3"
  },
  "language_info": {
   "codemirror_mode": {
    "name": "ipython",
    "version": 3
   },
   "file_extension": ".py",
   "mimetype": "text/x-python",
   "name": "python",
   "nbconvert_exporter": "python",
   "pygments_lexer": "ipython3",
   "version": "3.6.1"
  }
 },
 "nbformat": 4,
 "nbformat_minor": 2
}
