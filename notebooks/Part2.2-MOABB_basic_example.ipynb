{
 "cells": [
  {
   "cell_type": "markdown",
   "metadata": {},
   "source": [
    "# Making things simpler with MOABB (Part 2)\n",
    "\n",
    "We extend the previous example to a case where we want to analyse the score of a classifier with three different MI datasets instead of just one. As before, we begin by importing all relevant libraries."
   ]
  },
  {
   "cell_type": "code",
   "execution_count": 2,
   "metadata": {},
   "outputs": [],
   "source": [
    "%matplotlib inline\n",
    "\n",
    "import moabb\n",
    "from moabb.datasets import BNCI2014001, Weibo2014, Zhou2016\n",
    "from moabb.paradigms import LeftRightImagery\n",
    "from moabb.evaluations import WithinSessionEvaluation\n",
    "\n",
    "from sklearn.discriminant_analysis import LinearDiscriminantAnalysis as LDA\n",
    "from sklearn.pipeline import make_pipeline\n",
    "\n",
    "from mne.decoding import CSP\n",
    "\n",
    "import pandas as pd\n",
    "import matplotlib.pyplot as plt\n",
    "import seaborn as sns\n",
    "\n",
    "moabb.set_log_level('info')\n",
    "import warnings\n",
    "warnings.filterwarnings(\"ignore\")\n",
    "\n",
    "import mne\n",
    "mne.set_log_level(\"CRITICAL\")"
   ]
  },
  {
   "cell_type": "markdown",
   "metadata": {},
   "source": [
    "Then, we instantiate the three diferent datasets that interest us; they all follow the MI paradigm (with left-hand/right-hand classes) but were recorded with different number of electrodes, different number of trials, etc."
   ]
  },
  {
   "cell_type": "code",
   "execution_count": 5,
   "metadata": {},
   "outputs": [],
   "source": [
    "datasets = [Zhou2016(), BNCI2014001()]"
   ]
  },
  {
   "cell_type": "markdown",
   "metadata": {},
   "source": [
    "The following lines go exactly as in the previous example, where we end up obtaining a `pandas` dataframe containing the results of the evaluation."
   ]
  },
  {
   "cell_type": "code",
   "execution_count": 6,
   "metadata": {
    "scrolled": false
   },
   "outputs": [
    {
     "name": "stderr",
     "output_type": "stream",
     "text": [
      "2019-09-16 15:06:39 tug-swl-f195.tugraz.at root[2714] INFO Processing dataset: Zhou 2016\n",
      "2019-09-16 15:06:49 tug-swl-f195.tugraz.at root[2714] INFO csp+lda | Zhou 2016 | 1 | session_0: Score 0.873\n",
      "2019-09-16 15:06:50 tug-swl-f195.tugraz.at root[2714] INFO csp+lda | Zhou 2016 | 1 | session_1: Score 0.912\n",
      "2019-09-16 15:06:50 tug-swl-f195.tugraz.at root[2714] INFO csp+lda | Zhou 2016 | 1 | session_2: Score 0.970\n",
      "2019-09-16 15:06:57 tug-swl-f195.tugraz.at root[2714] INFO csp+lda | Zhou 2016 | 2 | session_0: Score 0.882\n",
      "2019-09-16 15:06:58 tug-swl-f195.tugraz.at root[2714] INFO csp+lda | Zhou 2016 | 2 | session_1: Score 0.783\n",
      "2019-09-16 15:06:59 tug-swl-f195.tugraz.at root[2714] INFO csp+lda | Zhou 2016 | 2 | session_2: Score 0.800\n",
      "2019-09-16 15:07:07 tug-swl-f195.tugraz.at root[2714] INFO csp+lda | Zhou 2016 | 3 | session_0: Score 0.968\n",
      "2019-09-16 15:07:08 tug-swl-f195.tugraz.at root[2714] INFO csp+lda | Zhou 2016 | 3 | session_1: Score 0.950\n",
      "2019-09-16 15:07:09 tug-swl-f195.tugraz.at root[2714] INFO csp+lda | Zhou 2016 | 3 | session_2: Score 0.996\n",
      "2019-09-16 15:07:17 tug-swl-f195.tugraz.at root[2714] INFO csp+lda | Zhou 2016 | 4 | session_0: Score 0.960\n",
      "2019-09-16 15:07:18 tug-swl-f195.tugraz.at root[2714] INFO csp+lda | Zhou 2016 | 4 | session_1: Score 0.978\n",
      "2019-09-16 15:07:19 tug-swl-f195.tugraz.at root[2714] INFO csp+lda | Zhou 2016 | 4 | session_2: Score 0.900\n",
      "2019-09-16 15:07:19 tug-swl-f195.tugraz.at root[2714] INFO Processing dataset: 001-2014\n",
      "2019-09-16 15:07:26 tug-swl-f195.tugraz.at root[2714] INFO csp+lda | 001-2014 | 1 | session_E: Score 0.937\n",
      "2019-09-16 15:07:28 tug-swl-f195.tugraz.at root[2714] INFO csp+lda | 001-2014 | 1 | session_T: Score 0.935\n",
      "2019-09-16 15:07:36 tug-swl-f195.tugraz.at root[2714] INFO csp+lda | 001-2014 | 2 | session_E: Score 0.608\n",
      "2019-09-16 15:07:37 tug-swl-f195.tugraz.at root[2714] INFO csp+lda | 001-2014 | 2 | session_T: Score 0.649\n",
      "2019-09-16 15:07:43 tug-swl-f195.tugraz.at root[2714] INFO csp+lda | 001-2014 | 3 | session_E: Score 0.998\n",
      "2019-09-16 15:07:44 tug-swl-f195.tugraz.at root[2714] INFO csp+lda | 001-2014 | 3 | session_T: Score 0.990\n",
      "2019-09-16 15:07:51 tug-swl-f195.tugraz.at root[2714] INFO csp+lda | 001-2014 | 4 | session_E: Score 0.843\n",
      "2019-09-16 15:07:52 tug-swl-f195.tugraz.at root[2714] INFO csp+lda | 001-2014 | 4 | session_T: Score 0.837\n",
      "2019-09-16 15:07:58 tug-swl-f195.tugraz.at root[2714] INFO csp+lda | 001-2014 | 5 | session_E: Score 0.622\n",
      "2019-09-16 15:07:59 tug-swl-f195.tugraz.at root[2714] INFO csp+lda | 001-2014 | 5 | session_T: Score 0.571\n",
      "2019-09-16 15:08:05 tug-swl-f195.tugraz.at root[2714] INFO csp+lda | 001-2014 | 6 | session_E: Score 0.806\n",
      "2019-09-16 15:08:06 tug-swl-f195.tugraz.at root[2714] INFO csp+lda | 001-2014 | 6 | session_T: Score 0.801\n",
      "2019-09-16 15:08:12 tug-swl-f195.tugraz.at root[2714] INFO csp+lda | 001-2014 | 7 | session_E: Score 0.959\n",
      "2019-09-16 15:08:14 tug-swl-f195.tugraz.at root[2714] INFO csp+lda | 001-2014 | 7 | session_T: Score 0.868\n",
      "2019-09-16 15:08:21 tug-swl-f195.tugraz.at root[2714] INFO csp+lda | 001-2014 | 8 | session_E: Score 0.994\n",
      "2019-09-16 15:08:22 tug-swl-f195.tugraz.at root[2714] INFO csp+lda | 001-2014 | 8 | session_T: Score 1.000\n",
      "2019-09-16 15:08:30 tug-swl-f195.tugraz.at root[2714] INFO csp+lda | 001-2014 | 9 | session_E: Score 0.951\n",
      "2019-09-16 15:08:31 tug-swl-f195.tugraz.at root[2714] INFO csp+lda | 001-2014 | 9 | session_T: Score 0.845\n"
     ]
    }
   ],
   "source": [
    "paradigm = LeftRightImagery()\n",
    "evaluation = WithinSessionEvaluation(paradigm=paradigm, datasets=datasets, overwrite=False)\n",
    "pipeline = make_pipeline(CSP(n_components=8), LDA())\n",
    "results = evaluation.process({'csp+lda':pipeline}) \n",
    "results.to_csv('../results/results_part2-2.csv')"
   ]
  },
  {
   "cell_type": "markdown",
   "metadata": {},
   "source": [
    "Once again, we plot the results using the `seaborn` library. Note how easy it is to plot the results from the three datasets with just one line. "
   ]
  },
  {
   "cell_type": "code",
   "execution_count": 7,
   "metadata": {},
   "outputs": [
    {
     "data": {
      "image/png": "[encoded data removed]",
      "text/plain": [
       "<Figure size 720x360 with 2 Axes>"
      ]
     },
     "metadata": {},
     "output_type": "display_data"
    }
   ],
   "source": [
    "results = pd.read_csv('../results/results_part2-2.csv')\n",
    "results[\"subj\"] = [str(resi).zfill(2) for resi in results[\"subject\"]]\n",
    "g = sns.catplot(kind='bar', x=\"score\", y=\"subj\", col=\"dataset\", data=results, orient='h', palette='viridis')"
   ]
  },
  {
   "cell_type": "code",
   "execution_count": null,
   "metadata": {},
   "outputs": [],
   "source": []
  }
 ],
 "metadata": {
  "kernelspec": {
   "display_name": "Python 3",
   "language": "python",
   "name": "python3"
  },
  "language_info": {
   "codemirror_mode": {
    "name": "ipython",
    "version": 3
   },
   "file_extension": ".py",
   "mimetype": "text/x-python",
   "name": "python",
   "nbconvert_exporter": "python",
   "pygments_lexer": "ipython3",
   "version": "3.6.8"
  }
 },
 "nbformat": 4,
 "nbformat_minor": 2
}
