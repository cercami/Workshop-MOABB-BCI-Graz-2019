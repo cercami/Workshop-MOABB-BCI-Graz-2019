{
 "cells": [
  {
   "cell_type": "markdown",
   "metadata": {},
   "source": [
    "# Creating a dataset class in MOABB"
   ]
  },
  {
   "cell_type": "code",
   "execution_count": 7,
   "metadata": {},
   "outputs": [],
   "source": [
    "%matplotlib inline\n",
    "import matplotlib.pyplot as plt\n",
    "import numpy as np\n",
    "import pyriemann\n",
    "from scipy.io import savemat, loadmat\n",
    "import mne"
   ]
  },
  {
   "cell_type": "markdown",
   "metadata": {},
   "source": [
    "To illustrate the creation of a dataset class in MOABB, we first create an example dataset saved in .mat file. It contains a single fake recording on 8 channels lasting for 150 seconds (sampling frequency 256 Hz). We've included the script that creates this dataset and have uploaded it online. It is available at the Zenodo website on the link : https://sandbox.zenodo.org/record/369543"
   ]
  },
  {
   "cell_type": "code",
   "execution_count": 8,
   "metadata": {},
   "outputs": [],
   "source": [
    "def create_example_dataset():\n",
    "\n",
    "    fsample = 256\n",
    "    Tsample = 1.0/fsample\n",
    "    Trecording = 150\n",
    "    Ttrial = 1 # duration of a trial\n",
    "    intertrial = 2 # time between finishing one trial and beginning another one\n",
    "    Nchannels = 8\n",
    "\n",
    "    x = np.zeros((Nchannels+1, Trecording * fsample)) # electrodes + stimulus\n",
    "    stim = np.zeros(Trecording * fsample)\n",
    "    toffset = 1.0 # offset where the trials start\n",
    "    Ntrials = 40\n",
    "\n",
    "    signal = np.sin(2 * np.pi / Ttrial * np.linspace(0, 4 * Ttrial, Ttrial * fsample))\n",
    "    for n in range(Ntrials):\n",
    "        label = n % 2 + 1 # alternate between class 0 and class 1\n",
    "        tn = int(toffset * fsample + n * (Ttrial+intertrial) * fsample)\n",
    "        stim[tn] = label\n",
    "        noise = 0.1 * np.random.randn(Nchannels, len(signal))\n",
    "        x[:-1, tn:(tn+Ttrial*fsample)] = label * signal + noise\n",
    "    x[-1,:] = stim    \n",
    "    \n",
    "    return x, fsample\n",
    "\n",
    "for subject in [1, 2, 3]:\n",
    "    \n",
    "    x, fs = create_example_dataset()\n",
    "    filename = 'subject_' + str(subject).zfill(2) + '.mat'\n",
    "    mdict = {}\n",
    "    mdict['x'] = x\n",
    "    mdict['fs'] = fs\n",
    "    savemat(filename, mdict)"
   ]
  },
  {
   "cell_type": "markdown",
   "metadata": {},
   "source": [
    "We will create now a dataset class using the fake data simulated with the code from above. For this, we first need to import the right classes from MOABB"
   ]
  },
  {
   "cell_type": "code",
   "execution_count": 9,
   "metadata": {},
   "outputs": [],
   "source": [
    "from moabb.datasets.base import BaseDataset\n",
    "from moabb.datasets import download as dl"
   ]
  },
  {
   "cell_type": "markdown",
   "metadata": {},
   "source": [
    "- `dl` is a very useful script that downloads automatically a dataset online if it is not yet available in the user's computer. The script knows where to download the files because we create a global variable telling the URL where to fetch the data.\n",
    "- `BaseDataset` is the basic class that we overload to create our dataset."
   ]
  },
  {
   "cell_type": "markdown",
   "metadata": {},
   "source": [
    "The global variable with the dataset's URL should specify an online repository where all the files are stored. "
   ]
  },
  {
   "cell_type": "code",
   "execution_count": 10,
   "metadata": {},
   "outputs": [],
   "source": [
    "ExampleDataset_URL = 'https://sandbox.zenodo.org/record/369543/files/'"
   ]
  },
  {
   "cell_type": "code",
   "execution_count": 16,
   "metadata": {},
   "outputs": [],
   "source": [
    "class ExampleDataset(BaseDataset):\n",
    "    \n",
    "    '''\n",
    "    Dataset used to exemplify the creation of a dataset class in MOABB. \n",
    "    The data samples have been simulated and has no physiological meaning whatsoever.\n",
    "    '''\n",
    "    \n",
    "    def __init__(self):\n",
    "        super().__init__(\n",
    "            subjects=[1, 2, 3],\n",
    "            sessions_per_subject=1,\n",
    "            events={'left_hand':1, 'right_hand':2},\n",
    "            code='Example dataset',\n",
    "            interval=[0, 0.75],\n",
    "            paradigm='imagery',\n",
    "            doi='')\n",
    "\n",
    "    def _get_single_subject_data(self, subject):\n",
    "        \"\"\"return data for a single subject\"\"\"\n",
    "\n",
    "        file_path_list = self.data_path(subject)\n",
    "        \n",
    "        data = loadmat(file_path_list[0])\n",
    "        x = data['x']\n",
    "        fs = data['fs']\n",
    "        ch_names = ['ch' + str(i) for i in range(8)] + ['stim'] \n",
    "        ch_types = ['eeg' for i in range(8)] + ['stim']\n",
    "        info = mne.create_info(ch_names, fs, ch_types)\n",
    "        raw = mne.io.RawArray(x, info)\n",
    "        \n",
    "        sessions = {}\n",
    "        sessions['session_1'] = {}\n",
    "        sessions['session_1']['run_1'] = raw\n",
    "\n",
    "        return sessions\n",
    "\n",
    "    def data_path(self, subject, path=None, force_update=False,\n",
    "                  update_path=None, verbose=None):\n",
    "\n",
    "        if subject not in self.subject_list:\n",
    "            raise(ValueError(\"Invalid subject number\"))\n",
    "\n",
    "        url = '{:s}subject_0{:d}.mat'.format(ExampleDataset_URL, subject)\n",
    "        path = dl.data_path(url, 'ExampleDataset')\n",
    "        \n",
    "        return [path] # it has to return a list    \n",
    "    \n",
    "dataset = ExampleDataset()    "
   ]
  },
  {
   "cell_type": "code",
   "execution_count": 20,
   "metadata": {},
   "outputs": [
    {
     "name": "stdout",
     "output_type": "stream",
     "text": [
      "Creating RawArray with float64 data, n_channels=9, n_times=38400\n",
      "    Range : 0 ... 38399 =      0.000 ...   149.996 secs\n",
      "Ready.\n"
     ]
    }
   ],
   "source": [
    "from moabb.paradigms import LeftRightImagery\n",
    "paradigm = LeftRightImagery()\n",
    "X, labels, meta = paradigm.get_data(dataset=dataset, subjects=[1])"
   ]
  },
  {
   "cell_type": "code",
   "execution_count": 30,
   "metadata": {},
   "outputs": [
    {
     "name": "stdout",
     "output_type": "stream",
     "text": [
      "Creating RawArray with float64 data, n_channels=9, n_times=38400\n",
      "    Range : 0 ... 38399 =      0.000 ...   149.996 secs\n",
      "Ready.\n",
      "Creating RawArray with float64 data, n_channels=9, n_times=38400\n",
      "    Range : 0 ... 38399 =      0.000 ...   149.996 secs\n",
      "Ready.\n",
      "Creating RawArray with float64 data, n_channels=9, n_times=38400\n",
      "    Range : 0 ... 38399 =      0.000 ...   149.996 secs\n",
      "Ready.\n"
     ]
    }
   ],
   "source": [
    "from moabb.evaluations import WithinSessionEvaluation\n",
    "from pyriemann.classification import MDM\n",
    "from pyriemann.estimation import Covariances\n",
    "from sklearn.pipeline import make_pipeline\n",
    "evaluation = WithinSessionEvaluation(paradigm=paradigm, datasets=dataset, overwrite=True)\n",
    "pipelines = {}\n",
    "pipelines['MDM'] = make_pipeline(Covariances('oas'), MDM(metric='riemann'))\n",
    "scores = evaluation.process(pipelines)"
   ]
  },
  {
   "cell_type": "code",
   "execution_count": 31,
   "metadata": {},
   "outputs": [
    {
     "data": {
      "text/html": [
       "<div>\n",
       "<style scoped>\n",
       "    .dataframe tbody tr th:only-of-type {\n",
       "        vertical-align: middle;\n",
       "    }\n",
       "\n",
       "    .dataframe tbody tr th {\n",
       "        vertical-align: top;\n",
       "    }\n",
       "\n",
       "    .dataframe thead th {\n",
       "        text-align: right;\n",
       "    }\n",
       "</style>\n",
       "<table border=\"1\" class=\"dataframe\">\n",
       "  <thead>\n",
       "    <tr style=\"text-align: right;\">\n",
       "      <th></th>\n",
       "      <th>score</th>\n",
       "      <th>time</th>\n",
       "      <th>samples</th>\n",
       "      <th>subject</th>\n",
       "      <th>session</th>\n",
       "      <th>channels</th>\n",
       "      <th>n_sessions</th>\n",
       "      <th>dataset</th>\n",
       "      <th>pipeline</th>\n",
       "    </tr>\n",
       "  </thead>\n",
       "  <tbody>\n",
       "    <tr>\n",
       "      <th>0</th>\n",
       "      <td>1.0</td>\n",
       "      <td>0.048424</td>\n",
       "      <td>40.0</td>\n",
       "      <td>1</td>\n",
       "      <td>session_1</td>\n",
       "      <td>8</td>\n",
       "      <td>1</td>\n",
       "      <td>Example dataset</td>\n",
       "      <td>MDM</td>\n",
       "    </tr>\n",
       "    <tr>\n",
       "      <th>1</th>\n",
       "      <td>1.0</td>\n",
       "      <td>0.053312</td>\n",
       "      <td>40.0</td>\n",
       "      <td>2</td>\n",
       "      <td>session_1</td>\n",
       "      <td>8</td>\n",
       "      <td>1</td>\n",
       "      <td>Example dataset</td>\n",
       "      <td>MDM</td>\n",
       "    </tr>\n",
       "    <tr>\n",
       "      <th>2</th>\n",
       "      <td>1.0</td>\n",
       "      <td>0.056087</td>\n",
       "      <td>40.0</td>\n",
       "      <td>3</td>\n",
       "      <td>session_1</td>\n",
       "      <td>8</td>\n",
       "      <td>1</td>\n",
       "      <td>Example dataset</td>\n",
       "      <td>MDM</td>\n",
       "    </tr>\n",
       "  </tbody>\n",
       "</table>\n",
       "</div>"
      ],
      "text/plain": [
       "   score      time  samples    ...    n_sessions          dataset  pipeline\n",
       "0    1.0  0.048424     40.0    ...             1  Example dataset       MDM\n",
       "1    1.0  0.053312     40.0    ...             1  Example dataset       MDM\n",
       "2    1.0  0.056087     40.0    ...             1  Example dataset       MDM\n",
       "\n",
       "[3 rows x 9 columns]"
      ]
     },
     "execution_count": 31,
     "metadata": {},
     "output_type": "execute_result"
    }
   ],
   "source": [
    "scores"
   ]
  },
  {
   "cell_type": "code",
   "execution_count": null,
   "metadata": {},
   "outputs": [],
   "source": []
  }
 ],
 "metadata": {
  "kernelspec": {
   "display_name": "Python 3",
   "language": "python",
   "name": "python3"
  },
  "language_info": {
   "codemirror_mode": {
    "name": "ipython",
    "version": 3
   },
   "file_extension": ".py",
   "mimetype": "text/x-python",
   "name": "python",
   "nbconvert_exporter": "python",
   "pygments_lexer": "ipython3",
   "version": "3.6.8"
  }
 },
 "nbformat": 4,
 "nbformat_minor": 2
}
