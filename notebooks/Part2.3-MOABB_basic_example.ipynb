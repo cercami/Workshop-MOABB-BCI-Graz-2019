{
 "cells": [
  {
   "cell_type": "markdown",
   "metadata": {},
   "source": [
    "# Making things simpler with MOABB (Part 3)\n",
    "\n",
    "In this last part, we extend the previous example by assessing the classification score of not one but three classification pipelines. Once again, we begin by importing all the required packages to make the script work."
   ]
  },
  {
   "cell_type": "code",
   "execution_count": 2,
   "metadata": {},
   "outputs": [],
   "source": [
    "%matplotlib inline\n",
    "\n",
    "import moabb\n",
    "from moabb.datasets import BNCI2014001, Weibo2014, Zhou2016\n",
    "from moabb.paradigms import LeftRightImagery\n",
    "from moabb.evaluations import WithinSessionEvaluation\n",
    "\n",
    "from sklearn.discriminant_analysis import LinearDiscriminantAnalysis as LDA\n",
    "from sklearn.pipeline import make_pipeline\n",
    "\n",
    "from mne.decoding import CSP\n",
    "import numpy as np\n",
    "\n",
    "from sklearn.svm import SVC\n",
    "from sklearn.model_selection import GridSearchCV\n",
    "from pyriemann.estimation import Covariances\n",
    "from pyriemann.tangentspace import TangentSpace\n",
    "from pyriemann.classification import MDM\n",
    "\n",
    "import pandas as pd\n",
    "import matplotlib.pyplot as plt\n",
    "import seaborn as sns\n",
    "\n",
    "import mne\n",
    "mne.set_log_level(\"CRITICAL\")\n",
    "\n",
    "moabb.set_log_level('info')\n",
    "import warnings\n",
    "warnings.filterwarnings(\"ignore\")"
   ]
  },
  {
   "cell_type": "markdown",
   "metadata": {},
   "source": [
    "Then, we instantiate the three different classiciation pipelines to be considered in the analysis. The object that gathers each pipeline is a dictionary."
   ]
  },
  {
   "cell_type": "code",
   "execution_count": 3,
   "metadata": {
    "collapsed": true
   },
   "outputs": [],
   "source": [
    "pipelines = {}\n",
    "pipelines['csp+lda'] = make_pipeline(CSP(n_components=8), LDA())\n",
    "pipelines['tgsp+svm'] = make_pipeline(Covariances('oas'), TangentSpace(metric='riemann'), SVC(kernel='linear'))\n",
    "pipelines['MDM'] = make_pipeline(Covariances('oas'), MDM(metric='riemann'))"
   ]
  },
  {
   "cell_type": "markdown",
   "metadata": {},
   "source": [
    "The following lines go exactly as in the previous examples."
   ]
  },
  {
   "cell_type": "code",
   "execution_count": 4,
   "metadata": {},
   "outputs": [
    {
     "name": "stderr",
     "output_type": "stream",
     "text": [
      "2019-09-04 10:58:40 desktop-270 root[1324] INFO Processing dataset: 001-2014\n",
      "2019-09-04 10:58:48 desktop-270 root[1324] INFO csp+lda | 001-2014 | 1 | session_E: Score 0.954\n",
      "2019-09-04 10:58:51 desktop-270 root[1324] INFO tgsp+svm | 001-2014 | 1 | session_E: Score 0.970\n",
      "2019-09-04 10:58:53 desktop-270 root[1324] INFO MDM | 001-2014 | 1 | session_E: Score 0.939\n",
      "2019-09-04 10:58:53 desktop-270 root[1324] INFO csp+lda | 001-2014 | 1 | session_T: Score 0.932\n",
      "2019-09-04 10:58:55 desktop-270 root[1324] INFO tgsp+svm | 001-2014 | 1 | session_T: Score 0.948\n",
      "2019-09-04 10:58:56 desktop-270 root[1324] INFO MDM | 001-2014 | 1 | session_T: Score 0.948\n",
      "2019-09-04 10:59:04 desktop-270 root[1324] INFO csp+lda | 001-2014 | 2 | session_E: Score 0.641\n",
      "2019-09-04 10:59:05 desktop-270 root[1324] INFO tgsp+svm | 001-2014 | 2 | session_E: Score 0.647\n",
      "2019-09-04 10:59:07 desktop-270 root[1324] INFO MDM | 001-2014 | 2 | session_E: Score 0.537\n",
      "2019-09-04 10:59:07 desktop-270 root[1324] INFO csp+lda | 001-2014 | 2 | session_T: Score 0.632\n",
      "2019-09-04 10:59:09 desktop-270 root[1324] INFO tgsp+svm | 001-2014 | 2 | session_T: Score 0.690\n",
      "2019-09-04 10:59:10 desktop-270 root[1324] INFO MDM | 001-2014 | 2 | session_T: Score 0.544\n",
      "2019-09-04 10:59:17 desktop-270 root[1324] INFO csp+lda | 001-2014 | 3 | session_E: Score 0.997\n",
      "2019-09-04 10:59:19 desktop-270 root[1324] INFO tgsp+svm | 001-2014 | 3 | session_E: Score 0.996\n",
      "2019-09-04 10:59:20 desktop-270 root[1324] INFO MDM | 001-2014 | 3 | session_E: Score 0.989\n",
      "2019-09-04 10:59:21 desktop-270 root[1324] INFO csp+lda | 001-2014 | 3 | session_T: Score 0.996\n",
      "2019-09-04 10:59:23 desktop-270 root[1324] INFO tgsp+svm | 001-2014 | 3 | session_T: Score 0.993\n",
      "2019-09-04 10:59:24 desktop-270 root[1324] INFO MDM | 001-2014 | 3 | session_T: Score 0.986\n",
      "2019-09-04 10:59:31 desktop-270 root[1324] INFO csp+lda | 001-2014 | 4 | session_E: Score 0.872\n",
      "2019-09-04 10:59:33 desktop-270 root[1324] INFO tgsp+svm | 001-2014 | 4 | session_E: Score 0.893\n",
      "2019-09-04 10:59:34 desktop-270 root[1324] INFO MDM | 001-2014 | 4 | session_E: Score 0.778\n",
      "2019-09-04 10:59:35 desktop-270 root[1324] INFO csp+lda | 001-2014 | 4 | session_T: Score 0.819\n",
      "2019-09-04 10:59:36 desktop-270 root[1324] INFO tgsp+svm | 001-2014 | 4 | session_T: Score 0.785\n",
      "2019-09-04 10:59:37 desktop-270 root[1324] INFO MDM | 001-2014 | 4 | session_T: Score 0.739\n",
      "2019-09-04 10:59:45 desktop-270 root[1324] INFO csp+lda | 001-2014 | 5 | session_E: Score 0.646\n",
      "2019-09-04 10:59:46 desktop-270 root[1324] INFO tgsp+svm | 001-2014 | 5 | session_E: Score 0.675\n",
      "2019-09-04 10:59:48 desktop-270 root[1324] INFO MDM | 001-2014 | 5 | session_E: Score 0.607\n",
      "2019-09-04 10:59:48 desktop-270 root[1324] INFO csp+lda | 001-2014 | 5 | session_T: Score 0.586\n",
      "2019-09-04 10:59:50 desktop-270 root[1324] INFO tgsp+svm | 001-2014 | 5 | session_T: Score 0.479\n",
      "2019-09-04 10:59:51 desktop-270 root[1324] INFO MDM | 001-2014 | 5 | session_T: Score 0.574\n",
      "2019-09-04 10:59:58 desktop-270 root[1324] INFO csp+lda | 001-2014 | 6 | session_E: Score 0.770\n",
      "2019-09-04 11:00:00 desktop-270 root[1324] INFO tgsp+svm | 001-2014 | 6 | session_E: Score 0.809\n",
      "2019-09-04 11:00:01 desktop-270 root[1324] INFO MDM | 001-2014 | 6 | session_E: Score 0.647\n",
      "2019-09-04 11:00:02 desktop-270 root[1324] INFO csp+lda | 001-2014 | 6 | session_T: Score 0.804\n",
      "2019-09-04 11:00:03 desktop-270 root[1324] INFO tgsp+svm | 001-2014 | 6 | session_T: Score 0.869\n",
      "2019-09-04 11:00:05 desktop-270 root[1324] INFO MDM | 001-2014 | 6 | session_T: Score 0.764\n",
      "2019-09-04 11:00:12 desktop-270 root[1324] INFO csp+lda | 001-2014 | 7 | session_E: Score 0.981\n",
      "2019-09-04 11:00:13 desktop-270 root[1324] INFO tgsp+svm | 001-2014 | 7 | session_E: Score 0.991\n",
      "2019-09-04 11:00:15 desktop-270 root[1324] INFO MDM | 001-2014 | 7 | session_E: Score 0.952\n",
      "2019-09-04 11:00:15 desktop-270 root[1324] INFO csp+lda | 001-2014 | 7 | session_T: Score 0.844\n",
      "2019-09-04 11:00:17 desktop-270 root[1324] INFO tgsp+svm | 001-2014 | 7 | session_T: Score 0.896\n",
      "2019-09-04 11:00:18 desktop-270 root[1324] INFO MDM | 001-2014 | 7 | session_T: Score 0.763\n",
      "2019-09-04 11:00:25 desktop-270 root[1324] INFO csp+lda | 001-2014 | 8 | session_E: Score 0.996\n",
      "2019-09-04 11:00:27 desktop-270 root[1324] INFO tgsp+svm | 001-2014 | 8 | session_E: Score 0.999\n",
      "2019-09-04 11:00:28 desktop-270 root[1324] INFO MDM | 001-2014 | 8 | session_E: Score 0.996\n",
      "2019-09-04 11:00:29 desktop-270 root[1324] INFO csp+lda | 001-2014 | 8 | session_T: Score 1.000\n",
      "2019-09-04 11:00:30 desktop-270 root[1324] INFO tgsp+svm | 001-2014 | 8 | session_T: Score 0.999\n",
      "2019-09-04 11:00:32 desktop-270 root[1324] INFO MDM | 001-2014 | 8 | session_T: Score 0.999\n",
      "2019-09-04 11:00:39 desktop-270 root[1324] INFO csp+lda | 001-2014 | 9 | session_E: Score 0.970\n",
      "2019-09-04 11:00:40 desktop-270 root[1324] INFO tgsp+svm | 001-2014 | 9 | session_E: Score 0.937\n",
      "2019-09-04 11:00:42 desktop-270 root[1324] INFO MDM | 001-2014 | 9 | session_E: Score 0.932\n",
      "2019-09-04 11:00:42 desktop-270 root[1324] INFO csp+lda | 001-2014 | 9 | session_T: Score 0.863\n",
      "2019-09-04 11:00:44 desktop-270 root[1324] INFO tgsp+svm | 001-2014 | 9 | session_T: Score 0.858\n",
      "2019-09-04 11:00:45 desktop-270 root[1324] INFO MDM | 001-2014 | 9 | session_T: Score 0.824\n",
      "2019-09-04 11:00:45 desktop-270 root[1324] INFO Processing dataset: Weibo 2014\n"
     ]
    },
    {
     "name": "stdout",
     "output_type": "stream",
     "text": [
      "Setting non-standard config type: \"MNE_DATASETS_WEIBO2014_PATH\"\n"
     ]
    },
    {
     "name": "stderr",
     "output_type": "stream",
     "text": [
      "2019-09-04 11:00:56 desktop-270 root[1324] WARNING Trial data de-meaned and concatenated with a buffer to create cont data\n",
      "2019-09-04 11:01:02 desktop-270 root[1324] INFO csp+lda | Weibo 2014 | 1 | session_0: Score 0.798\n",
      "2019-09-04 11:01:10 desktop-270 root[1324] INFO tgsp+svm | Weibo 2014 | 1 | session_0: Score 0.853\n",
      "2019-09-04 11:01:17 desktop-270 root[1324] INFO MDM | Weibo 2014 | 1 | session_0: Score 0.445\n"
     ]
    },
    {
     "name": "stdout",
     "output_type": "stream",
     "text": [
      "Setting non-standard config type: \"MNE_DATASETS_WEIBO2014_PATH\"\n"
     ]
    },
    {
     "name": "stderr",
     "output_type": "stream",
     "text": [
      "2019-09-04 11:01:28 desktop-270 root[1324] WARNING Trial data de-meaned and concatenated with a buffer to create cont data\n",
      "2019-09-04 11:01:34 desktop-270 root[1324] INFO csp+lda | Weibo 2014 | 2 | session_0: Score 0.957\n",
      "2019-09-04 11:01:40 desktop-270 root[1324] INFO tgsp+svm | Weibo 2014 | 2 | session_0: Score 0.973\n",
      "2019-09-04 11:01:45 desktop-270 root[1324] INFO MDM | Weibo 2014 | 2 | session_0: Score 0.704\n"
     ]
    },
    {
     "name": "stdout",
     "output_type": "stream",
     "text": [
      "Setting non-standard config type: \"MNE_DATASETS_WEIBO2014_PATH\"\n"
     ]
    },
    {
     "name": "stderr",
     "output_type": "stream",
     "text": [
      "2019-09-04 11:01:55 desktop-270 root[1324] WARNING Trial data de-meaned and concatenated with a buffer to create cont data\n",
      "2019-09-04 11:02:02 desktop-270 root[1324] INFO csp+lda | Weibo 2014 | 3 | session_0: Score 0.415\n",
      "2019-09-04 11:02:07 desktop-270 root[1324] INFO tgsp+svm | Weibo 2014 | 3 | session_0: Score 0.577\n",
      "2019-09-04 11:02:12 desktop-270 root[1324] INFO MDM | Weibo 2014 | 3 | session_0: Score 0.480\n"
     ]
    },
    {
     "name": "stdout",
     "output_type": "stream",
     "text": [
      "Setting non-standard config type: \"MNE_DATASETS_WEIBO2014_PATH\"\n"
     ]
    },
    {
     "name": "stderr",
     "output_type": "stream",
     "text": [
      "2019-09-04 11:02:23 desktop-270 root[1324] WARNING Trial data de-meaned and concatenated with a buffer to create cont data\n",
      "2019-09-04 11:02:29 desktop-270 root[1324] INFO csp+lda | Weibo 2014 | 4 | session_0: Score 0.561\n",
      "2019-09-04 11:02:35 desktop-270 root[1324] INFO tgsp+svm | Weibo 2014 | 4 | session_0: Score 0.648\n",
      "2019-09-04 11:02:40 desktop-270 root[1324] INFO MDM | Weibo 2014 | 4 | session_0: Score 0.514\n"
     ]
    },
    {
     "name": "stdout",
     "output_type": "stream",
     "text": [
      "Setting non-standard config type: \"MNE_DATASETS_WEIBO2014_PATH\"\n"
     ]
    },
    {
     "name": "stderr",
     "output_type": "stream",
     "text": [
      "2019-09-04 11:02:51 desktop-270 root[1324] WARNING Trial data de-meaned and concatenated with a buffer to create cont data\n",
      "2019-09-04 11:02:57 desktop-270 root[1324] INFO csp+lda | Weibo 2014 | 5 | session_0: Score 0.783\n",
      "2019-09-04 11:03:03 desktop-270 root[1324] INFO tgsp+svm | Weibo 2014 | 5 | session_0: Score 0.777\n",
      "2019-09-04 11:03:08 desktop-270 root[1324] INFO MDM | Weibo 2014 | 5 | session_0: Score 0.410\n"
     ]
    },
    {
     "name": "stdout",
     "output_type": "stream",
     "text": [
      "Setting non-standard config type: \"MNE_DATASETS_WEIBO2014_PATH\"\n"
     ]
    },
    {
     "name": "stderr",
     "output_type": "stream",
     "text": [
      "2019-09-04 11:03:18 desktop-270 root[1324] WARNING Trial data de-meaned and concatenated with a buffer to create cont data\n",
      "2019-09-04 11:03:24 desktop-270 root[1324] INFO csp+lda | Weibo 2014 | 6 | session_0: Score 0.968\n",
      "2019-09-04 11:03:29 desktop-270 root[1324] INFO tgsp+svm | Weibo 2014 | 6 | session_0: Score 0.983\n",
      "2019-09-04 11:03:33 desktop-270 root[1324] INFO MDM | Weibo 2014 | 6 | session_0: Score 0.888\n"
     ]
    },
    {
     "name": "stdout",
     "output_type": "stream",
     "text": [
      "Setting non-standard config type: \"MNE_DATASETS_WEIBO2014_PATH\"\n"
     ]
    },
    {
     "name": "stderr",
     "output_type": "stream",
     "text": [
      "2019-09-04 11:03:44 desktop-270 root[1324] WARNING Trial data de-meaned and concatenated with a buffer to create cont data\n",
      "2019-09-04 11:03:50 desktop-270 root[1324] INFO csp+lda | Weibo 2014 | 7 | session_0: Score 0.959\n",
      "2019-09-04 11:03:56 desktop-270 root[1324] INFO tgsp+svm | Weibo 2014 | 7 | session_0: Score 0.950\n",
      "2019-09-04 11:04:01 desktop-270 root[1324] INFO MDM | Weibo 2014 | 7 | session_0: Score 0.835\n"
     ]
    },
    {
     "name": "stdout",
     "output_type": "stream",
     "text": [
      "Setting non-standard config type: \"MNE_DATASETS_WEIBO2014_PATH\"\n"
     ]
    },
    {
     "name": "stderr",
     "output_type": "stream",
     "text": [
      "2019-09-04 11:04:12 desktop-270 root[1324] WARNING Trial data de-meaned and concatenated with a buffer to create cont data\n",
      "2019-09-04 11:04:18 desktop-270 root[1324] INFO csp+lda | Weibo 2014 | 8 | session_0: Score 0.993\n",
      "2019-09-04 11:04:27 desktop-270 root[1324] INFO tgsp+svm | Weibo 2014 | 8 | session_0: Score 0.952\n",
      "2019-09-04 11:04:41 desktop-270 root[1324] INFO MDM | Weibo 2014 | 8 | session_0: Score 0.538\n"
     ]
    },
    {
     "name": "stdout",
     "output_type": "stream",
     "text": [
      "Setting non-standard config type: \"MNE_DATASETS_WEIBO2014_PATH\"\n"
     ]
    },
    {
     "name": "stderr",
     "output_type": "stream",
     "text": [
      "2019-09-04 11:04:52 desktop-270 root[1324] WARNING Trial data de-meaned and concatenated with a buffer to create cont data\n",
      "2019-09-04 11:04:58 desktop-270 root[1324] INFO csp+lda | Weibo 2014 | 9 | session_0: Score 0.859\n",
      "2019-09-04 11:05:04 desktop-270 root[1324] INFO tgsp+svm | Weibo 2014 | 9 | session_0: Score 0.912\n",
      "2019-09-04 11:05:09 desktop-270 root[1324] INFO MDM | Weibo 2014 | 9 | session_0: Score 0.652\n"
     ]
    },
    {
     "name": "stdout",
     "output_type": "stream",
     "text": [
      "Setting non-standard config type: \"MNE_DATASETS_WEIBO2014_PATH\"\n"
     ]
    },
    {
     "name": "stderr",
     "output_type": "stream",
     "text": [
      "2019-09-04 11:05:19 desktop-270 root[1324] WARNING Trial data de-meaned and concatenated with a buffer to create cont data\n",
      "2019-09-04 11:05:26 desktop-270 root[1324] INFO csp+lda | Weibo 2014 | 10 | session_0: Score 0.706\n",
      "2019-09-04 11:05:31 desktop-270 root[1324] INFO tgsp+svm | Weibo 2014 | 10 | session_0: Score 0.691\n",
      "2019-09-04 11:05:36 desktop-270 root[1324] INFO MDM | Weibo 2014 | 10 | session_0: Score 0.642\n",
      "2019-09-04 11:05:36 desktop-270 root[1324] INFO Processing dataset: Zhou 2016\n"
     ]
    },
    {
     "name": "stdout",
     "output_type": "stream",
     "text": [
      "Setting non-standard config type: \"MNE_DATASETS_ZHOU2016_PATH\"\n",
      "  Could not parse meas date from the header. Setting to None.\n",
      "Could not define the number of bytes automatically. Defaulting to 2.\n",
      "The following EEG sensors did not have a position specified in the selected montage: ['VEOU', 'VEOL']. Their position has been left untouched.\n",
      "  Could not parse meas date from the header. Setting to None.\n",
      "Could not define the number of bytes automatically. Defaulting to 2.\n",
      "The following EEG sensors did not have a position specified in the selected montage: ['VEOU', 'VEOL']. Their position has been left untouched.\n",
      "  Could not parse meas date from the header. Setting to None.\n",
      "Could not define the number of bytes automatically. Defaulting to 2.\n",
      "The following EEG sensors did not have a position specified in the selected montage: ['VEOU', 'VEOL']. Their position has been left untouched.\n",
      "  Could not parse meas date from the header. Setting to None.\n",
      "Could not define the number of bytes automatically. Defaulting to 2.\n",
      "The following EEG sensors did not have a position specified in the selected montage: ['VEOU', 'VEOL']. Their position has been left untouched.\n",
      "  Could not parse meas date from the header. Setting to None.\n",
      "Could not define the number of bytes automatically. Defaulting to 2.\n",
      "The following EEG sensors did not have a position specified in the selected montage: ['VEOU', 'VEOL']. Their position has been left untouched.\n",
      "  Could not parse meas date from the header. Setting to None.\n",
      "Could not define the number of bytes automatically. Defaulting to 2.\n",
      "The following EEG sensors did not have a position specified in the selected montage: ['VEOU', 'VEOL']. Their position has been left untouched.\n"
     ]
    },
    {
     "name": "stderr",
     "output_type": "stream",
     "text": [
      "2019-09-04 11:05:42 desktop-270 root[1324] INFO csp+lda | Zhou 2016 | 1 | session_0: Score 0.881\n",
      "2019-09-04 11:05:43 desktop-270 root[1324] INFO tgsp+svm | Zhou 2016 | 1 | session_0: Score 0.855\n",
      "2019-09-04 11:05:44 desktop-270 root[1324] INFO MDM | Zhou 2016 | 1 | session_0: Score 0.718\n",
      "2019-09-04 11:05:44 desktop-270 root[1324] INFO csp+lda | Zhou 2016 | 1 | session_1: Score 0.908\n",
      "2019-09-04 11:05:45 desktop-270 root[1324] INFO tgsp+svm | Zhou 2016 | 1 | session_1: Score 0.890\n",
      "2019-09-04 11:05:46 desktop-270 root[1324] INFO MDM | Zhou 2016 | 1 | session_1: Score 0.848\n",
      "2019-09-04 11:05:46 desktop-270 root[1324] INFO csp+lda | Zhou 2016 | 1 | session_2: Score 0.964\n",
      "2019-09-04 11:05:47 desktop-270 root[1324] INFO tgsp+svm | Zhou 2016 | 1 | session_2: Score 0.966\n",
      "2019-09-04 11:05:48 desktop-270 root[1324] INFO MDM | Zhou 2016 | 1 | session_2: Score 0.936\n"
     ]
    },
    {
     "name": "stdout",
     "output_type": "stream",
     "text": [
      "Setting non-standard config type: \"MNE_DATASETS_ZHOU2016_PATH\"\n",
      "  Could not parse meas date from the header. Setting to None.\n",
      "Could not define the number of bytes automatically. Defaulting to 2.\n",
      "The following EEG sensors did not have a position specified in the selected montage: ['VEOU', 'VEOL']. Their position has been left untouched.\n",
      "  Could not parse meas date from the header. Setting to None.\n",
      "Could not define the number of bytes automatically. Defaulting to 2.\n",
      "The following EEG sensors did not have a position specified in the selected montage: ['VEOU', 'VEOL']. Their position has been left untouched.\n",
      "  Could not parse meas date from the header. Setting to None.\n",
      "Could not define the number of bytes automatically. Defaulting to 2.\n",
      "The following EEG sensors did not have a position specified in the selected montage: ['VEOU', 'VEOL']. Their position has been left untouched.\n",
      "  Could not parse meas date from the header. Setting to None.\n",
      "Could not define the number of bytes automatically. Defaulting to 2.\n",
      "The following EEG sensors did not have a position specified in the selected montage: ['VEOU', 'VEOL']. Their position has been left untouched.\n",
      "  Could not parse meas date from the header. Setting to None.\n",
      "Could not define the number of bytes automatically. Defaulting to 2.\n",
      "The following EEG sensors did not have a position specified in the selected montage: ['VEOU', 'VEOL']. Their position has been left untouched.\n",
      "  Could not parse meas date from the header. Setting to None.\n",
      "Could not define the number of bytes automatically. Defaulting to 2.\n",
      "The following EEG sensors did not have a position specified in the selected montage: ['VEOU', 'VEOL']. Their position has been left untouched.\n"
     ]
    },
    {
     "name": "stderr",
     "output_type": "stream",
     "text": [
      "2019-09-04 11:05:53 desktop-270 root[1324] INFO csp+lda | Zhou 2016 | 2 | session_0: Score 0.864\n",
      "2019-09-04 11:05:53 desktop-270 root[1324] INFO tgsp+svm | Zhou 2016 | 2 | session_0: Score 0.908\n",
      "2019-09-04 11:05:54 desktop-270 root[1324] INFO MDM | Zhou 2016 | 2 | session_0: Score 0.876\n",
      "2019-09-04 11:05:55 desktop-270 root[1324] INFO csp+lda | Zhou 2016 | 2 | session_1: Score 0.672\n",
      "2019-09-04 11:05:56 desktop-270 root[1324] INFO tgsp+svm | Zhou 2016 | 2 | session_1: Score 0.770\n",
      "2019-09-04 11:05:56 desktop-270 root[1324] INFO MDM | Zhou 2016 | 2 | session_1: Score 0.765\n",
      "2019-09-04 11:05:57 desktop-270 root[1324] INFO csp+lda | Zhou 2016 | 2 | session_2: Score 0.866\n",
      "2019-09-04 11:05:58 desktop-270 root[1324] INFO tgsp+svm | Zhou 2016 | 2 | session_2: Score 0.892\n",
      "2019-09-04 11:05:58 desktop-270 root[1324] INFO MDM | Zhou 2016 | 2 | session_2: Score 0.828\n"
     ]
    },
    {
     "name": "stdout",
     "output_type": "stream",
     "text": [
      "Setting non-standard config type: \"MNE_DATASETS_ZHOU2016_PATH\"\n",
      "  Could not parse meas date from the header. Setting to None.\n",
      "Could not define the number of bytes automatically. Defaulting to 2.\n",
      "The following EEG sensors did not have a position specified in the selected montage: ['VEOU', 'VEOL']. Their position has been left untouched.\n",
      "  Could not parse meas date from the header. Setting to None.\n",
      "Could not define the number of bytes automatically. Defaulting to 2.\n",
      "The following EEG sensors did not have a position specified in the selected montage: ['VEOU', 'VEOL']. Their position has been left untouched.\n",
      "  Could not parse meas date from the header. Setting to None.\n",
      "Could not define the number of bytes automatically. Defaulting to 2.\n",
      "The following EEG sensors did not have a position specified in the selected montage: ['VEOU', 'VEOL']. Their position has been left untouched.\n",
      "  Could not parse meas date from the header. Setting to None.\n",
      "Could not define the number of bytes automatically. Defaulting to 2.\n",
      "The following EEG sensors did not have a position specified in the selected montage: ['VEOU', 'VEOL']. Their position has been left untouched.\n",
      "  Could not parse meas date from the header. Setting to None.\n",
      "Could not define the number of bytes automatically. Defaulting to 2.\n",
      "The following EEG sensors did not have a position specified in the selected montage: ['VEOU', 'VEOL']. Their position has been left untouched.\n",
      "  Could not parse meas date from the header. Setting to None.\n",
      "Could not define the number of bytes automatically. Defaulting to 2.\n",
      "The following EEG sensors did not have a position specified in the selected montage: ['VEOU', 'VEOL']. Their position has been left untouched.\n"
     ]
    },
    {
     "name": "stderr",
     "output_type": "stream",
     "text": [
      "2019-09-04 11:06:03 desktop-270 root[1324] INFO csp+lda | Zhou 2016 | 3 | session_0: Score 0.992\n",
      "2019-09-04 11:06:04 desktop-270 root[1324] INFO tgsp+svm | Zhou 2016 | 3 | session_0: Score 0.998\n",
      "2019-09-04 11:06:05 desktop-270 root[1324] INFO MDM | Zhou 2016 | 3 | session_0: Score 0.938\n",
      "2019-09-04 11:06:05 desktop-270 root[1324] INFO csp+lda | Zhou 2016 | 3 | session_1: Score 0.980\n",
      "2019-09-04 11:06:06 desktop-270 root[1324] INFO tgsp+svm | Zhou 2016 | 3 | session_1: Score 0.974\n",
      "2019-09-04 11:06:07 desktop-270 root[1324] INFO MDM | Zhou 2016 | 3 | session_1: Score 0.794\n",
      "2019-09-04 11:06:07 desktop-270 root[1324] INFO csp+lda | Zhou 2016 | 3 | session_2: Score 0.986\n",
      "2019-09-04 11:06:08 desktop-270 root[1324] INFO tgsp+svm | Zhou 2016 | 3 | session_2: Score 0.998\n",
      "2019-09-04 11:06:09 desktop-270 root[1324] INFO MDM | Zhou 2016 | 3 | session_2: Score 0.852\n"
     ]
    },
    {
     "name": "stdout",
     "output_type": "stream",
     "text": [
      "Setting non-standard config type: \"MNE_DATASETS_ZHOU2016_PATH\"\n",
      "  Could not parse meas date from the header. Setting to None.\n",
      "Could not define the number of bytes automatically. Defaulting to 2.\n",
      "The following EEG sensors did not have a position specified in the selected montage: ['VEOU', 'VEOL']. Their position has been left untouched.\n",
      "  Could not parse meas date from the header. Setting to None.\n",
      "Could not define the number of bytes automatically. Defaulting to 2.\n",
      "The following EEG sensors did not have a position specified in the selected montage: ['VEOU', 'VEOL']. Their position has been left untouched.\n",
      "  Could not parse meas date from the header. Setting to None.\n",
      "Could not define the number of bytes automatically. Defaulting to 2.\n",
      "The following EEG sensors did not have a position specified in the selected montage: ['VEOU', 'VEOL']. Their position has been left untouched.\n",
      "  Could not parse meas date from the header. Setting to None.\n",
      "Could not define the number of bytes automatically. Defaulting to 2.\n",
      "The following EEG sensors did not have a position specified in the selected montage: ['VEOU', 'VEOL']. Their position has been left untouched.\n",
      "  Could not parse meas date from the header. Setting to None.\n",
      "Could not define the number of bytes automatically. Defaulting to 2.\n",
      "The following EEG sensors did not have a position specified in the selected montage: ['VEOU', 'VEOL']. Their position has been left untouched.\n",
      "  Could not parse meas date from the header. Setting to None.\n",
      "Could not define the number of bytes automatically. Defaulting to 2.\n",
      "The following EEG sensors did not have a position specified in the selected montage: ['VEOU', 'VEOL']. Their position has been left untouched.\n"
     ]
    },
    {
     "name": "stderr",
     "output_type": "stream",
     "text": [
      "2019-09-04 11:06:13 desktop-270 root[1324] INFO csp+lda | Zhou 2016 | 4 | session_0: Score 0.968\n",
      "2019-09-04 11:06:14 desktop-270 root[1324] INFO tgsp+svm | Zhou 2016 | 4 | session_0: Score 0.956\n",
      "2019-09-04 11:06:14 desktop-270 root[1324] INFO MDM | Zhou 2016 | 4 | session_0: Score 0.973\n",
      "2019-09-04 11:06:15 desktop-270 root[1324] INFO csp+lda | Zhou 2016 | 4 | session_1: Score 0.976\n",
      "2019-09-04 11:06:15 desktop-270 root[1324] INFO tgsp+svm | Zhou 2016 | 4 | session_1: Score 0.986\n",
      "2019-09-04 11:06:16 desktop-270 root[1324] INFO MDM | Zhou 2016 | 4 | session_1: Score 0.908\n",
      "2019-09-04 11:06:17 desktop-270 root[1324] INFO csp+lda | Zhou 2016 | 4 | session_2: Score 0.952\n",
      "2019-09-04 11:06:18 desktop-270 root[1324] INFO tgsp+svm | Zhou 2016 | 4 | session_2: Score 0.972\n",
      "2019-09-04 11:06:18 desktop-270 root[1324] INFO MDM | Zhou 2016 | 4 | session_2: Score 0.960\n"
     ]
    }
   ],
   "source": [
    "datasets = [BNCI2014001(), Weibo2014(), Zhou2016()]\n",
    "paradigm = LeftRightImagery()\n",
    "evaluation = WithinSessionEvaluation(paradigm=paradigm, datasets=datasets, overwrite=True)\n",
    "results = evaluation.process(pipelines) \n",
    "results.to_csv('../results/results_part2-3.csv')"
   ]
  },
  {
   "cell_type": "code",
   "execution_count": 7,
   "metadata": {
    "scrolled": false
   },
   "outputs": [
    {
     "data": {
      "image/png": "[encoded data removed]",
      "text/plain": [
       "<Figure size 1391.47x864 with 3 Axes>"
      ]
     },
     "metadata": {},
     "output_type": "display_data"
    }
   ],
   "source": [
    "results = pd.read_csv('../results/results_part2-3.csv')\n",
    "results[\"subj\"] = [str(resi).zfill(2) for resi in results[\"subject\"]]\n",
    "g = sns.catplot(kind='bar', x=\"score\", y=\"subj\", hue=\"pipeline\", col=\"dataset\", height=12, aspect=0.5, data=results, orient='h', palette='viridis')"
   ]
  },
  {
   "cell_type": "code",
   "execution_count": 8,
   "metadata": {
    "scrolled": false
   },
   "outputs": [
    {
     "data": {
      "image/png": "[encoded data removed]",
      "text/plain": [
       "<Figure size 540x360 with 1 Axes>"
      ]
     },
     "metadata": {},
     "output_type": "display_data"
    }
   ],
   "source": [
    "g = sns.catplot(kind=\"box\", x=\"score\", y=\"pipeline\", aspect=1.5, data=results, orient='h', palette='viridis')"
   ]
  },
  {
   "cell_type": "markdown",
   "metadata": {},
   "source": [
    "Until now, we have always plotted the results using the seaborn package and creating the figure by ourselves. MOABB also offers some functionalities for analysing the results obtained after running an evaluation procedure."
   ]
  },
  {
   "cell_type": "markdown",
   "metadata": {},
   "source": [
    "For instance, we may create a plot comparing the results with two classification algorithms as in:"
   ]
  },
  {
   "cell_type": "code",
   "execution_count": 18,
   "metadata": {},
   "outputs": [
    {
     "name": "stderr",
     "output_type": "stream",
     "text": [
      "2019-09-04 11:32:11 desktop-270 matplotlib.axes._axes[1324] WARNING 'c' argument looks like a single numeric RGB or RGBA sequence, which should be avoided as value-mapping will have precedence in case its length matches with 'x' & 'y'.  Please use a 2-D array with a single row if you really want to specify the same RGB or RGBA value for all points.\n"
     ]
    },
    {
     "data": {
      "image/png": "[encoded data removed]",
      "text/plain": [
       "<Figure size 648x648 with 1 Axes>"
      ]
     },
     "metadata": {},
     "output_type": "display_data"
    }
   ],
   "source": [
    "alg1 = 'csp+lda'\n",
    "alg2 = 'tgsp+svm'\n",
    "fig = moabb.analysis.plotting.paired_plot(results, alg1, alg2)\n",
    "fig.set_size_inches(9,9)"
   ]
  },
  {
   "cell_type": "markdown",
   "metadata": {},
   "source": [
    "N.B.: MOABB collapses the values from different sessions into a single average score, which is why we have the impression of having much less points than it should in the plot."
   ]
  },
  {
   "cell_type": "markdown",
   "metadata": {},
   "source": [
    "We may also do statistical analysis on the results and plot them with MOABB. For this, we need to first generate an auxiliary dataframe containing all the statistics describing the results and, then, use it as input."
   ]
  },
  {
   "cell_type": "code",
   "execution_count": 38,
   "metadata": {},
   "outputs": [
    {
     "data": {
      "image/png": "[encoded data removed]",
      "text/plain": [
       "<Figure size 576x504 with 2 Axes>"
      ]
     },
     "metadata": {},
     "output_type": "display_data"
    }
   ],
   "source": [
    "stats_df = moabb.analysis.meta_analysis.compute_dataset_statistics(results)\n",
    "alg1 = 'csp+lda'\n",
    "alg2 = 'tgsp+svm'\n",
    "fig = moabb.analysis.plotting.meta_analysis_plot(stats_df, alg1, alg2)\n",
    "fig.set_size_inches(8,7)"
   ]
  }
 ],
 "metadata": {
  "kernelspec": {
   "display_name": "Python 3",
   "language": "python",
   "name": "python3"
  },
  "language_info": {
   "codemirror_mode": {
    "name": "ipython",
    "version": 3
   },
   "file_extension": ".py",
   "mimetype": "text/x-python",
   "name": "python",
   "nbconvert_exporter": "python",
   "pygments_lexer": "ipython3",
   "version": "3.6.8"
  }
 },
 "nbformat": 4,
 "nbformat_minor": 2
}
